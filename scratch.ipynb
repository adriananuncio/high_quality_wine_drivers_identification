{
 "cells": [
  {
   "cell_type": "code",
   "execution_count": null,
   "id": "f3d10b5b",
   "metadata": {},
   "outputs": [],
   "source": [
    "def remove_outliers(df):\n",
    "    '''This function removes outliers from specified columns using interquartile range'''\n",
    "    columns = [\"fixed_acidity\"\n",
    "               , \"volatile_acidity\"\n",
    "               , \"citric_acid\"\n",
    "               , \"residual_sugar\"\n",
    "               , \"chlorides\"\n",
    "               , \"free_sulfur_dioxide\"\n",
    "               , \"total_sulfur_dioxide\"\n",
    "               , \"density\"\n",
    "               , \"pH\"\n",
    "               , \"sulphates\"\n",
    "               , \"alcohol\"\n",
    "               , \"quality\"]\n",
    "    for col in columns:\n",
    "    # setting floor for my data\n",
    "        Q1 = df[col].quantile(0.25)\n",
    "    # setting ceiling for my data\n",
    "        Q3 = df[col].quantile(0.75)\n",
    "        IQR = Q3 - Q1\n",
    "        floor = Q1 - 1.5 * IQR\n",
    "        ceiling = Q3 + 1.5 * IQR\n",
    "        df = df.loc[(df[col] >= floor) & (df[col] <= ceiling)]\n",
    "    return df\n",
    "df = remove_outliers(df)\n",
    "\n",
    "# visuals after removing outliers\n",
    "visuals.initial_visuals(df)"
   ]
  },
  {
   "cell_type": "markdown",
   "id": "d37d46cb",
   "metadata": {},
   "source": [
    "6497 rows of data before removing outliers.\n",
    "\n",
    "4418 rows of data after removing outliers."
   ]
  },
  {
   "cell_type": "code",
   "execution_count": null,
   "id": "1f137e30",
   "metadata": {},
   "outputs": [],
   "source": []
  }
 ],
 "metadata": {
  "kernelspec": {
   "display_name": "Python 3 (ipykernel)",
   "language": "python",
   "name": "python3"
  },
  "language_info": {
   "codemirror_mode": {
    "name": "ipython",
    "version": 3
   },
   "file_extension": ".py",
   "mimetype": "text/x-python",
   "name": "python",
   "nbconvert_exporter": "python",
   "pygments_lexer": "ipython3",
   "version": "3.9.13"
  }
 },
 "nbformat": 4,
 "nbformat_minor": 5
}
